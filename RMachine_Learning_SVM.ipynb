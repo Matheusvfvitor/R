{
  "nbformat": 4,
  "nbformat_minor": 0,
  "metadata": {
    "colab": {
      "name": "RMachine_Learning_SVM.ipynb",
      "provenance": [],
      "authorship_tag": "ABX9TyO+Q7UtnB3YzcYyh2viJEVf",
      "include_colab_link": true
    },
    "kernelspec": {
      "name": "ir",
      "display_name": "R"
    }
  },
  "cells": [
    {
      "cell_type": "markdown",
      "metadata": {
        "id": "view-in-github",
        "colab_type": "text"
      },
      "source": [
        "<a href=\"https://colab.research.google.com/github/Matheusvfvitor/R/blob/master/RMachine_Learning_SVM.ipynb\" target=\"_parent\"><img src=\"https://colab.research.google.com/assets/colab-badge.svg\" alt=\"Open In Colab\"/></a>"
      ]
    },
    {
      "cell_type": "markdown",
      "metadata": {
        "id": "S07rdFm7DesR",
        "colab_type": "text"
      },
      "source": [
        "Objetivo :\n",
        "\n",
        "Realizar a avaliação da base de dados crédito e realizar a predição da liberação ou não de crédito de acordo com os dados recebidos.\n",
        "\n",
        "Para realização desse estudo realizaremos as seguintes etapas\n",
        "\n",
        "1. Carregamento dos dados da base dados créditos (*.csv)\n",
        "2. Limpeza dos valores missing e nulls\n",
        "3. Normalização e Padronização dos dados\n",
        "4. Separação da base de dados em treino e teste\n",
        "5. Criação do classificador na base dados de treino\n",
        "6. Treino na base\n",
        "7. Aplicação do Algorítmo de predição SVM\n",
        "8. Gerar a matriz de confusão com os resultados\n",
        "9. Aplicação do pacote Caret e para quantificação dos resultados\n",
        "\n",
        "\n",
        "\n"
      ]
    },
    {
      "cell_type": "code",
      "metadata": {
        "id": "EPmQzSDwDaEB",
        "colab_type": "code",
        "colab": {}
      },
      "source": [
        "## Importando Pacotes\n",
        "\n",
        "library(tidyr)\n",
        "library(dplyr)\n",
        "library(stringr)\n",
        "library(ggplot2)"
      ],
      "execution_count": 0,
      "outputs": []
    },
    {
      "cell_type": "code",
      "metadata": {
        "id": "7HqGsuQTDy2a",
        "colab_type": "code",
        "colab": {
          "base_uri": "https://localhost:8080/",
          "height": 493
        },
        "outputId": "4d0de63e-a0a1-4555-a0bb-1343a9fac113"
      },
      "source": [
        "## 1)\n",
        "## Fazendo o carregamento do banco de dados\n",
        "data = read.csv(\"census.csv\",encoding=\"UTF-8\")\n",
        "\n",
        "head(data)\n",
        "str(data)\n",
        "\n",
        "# Apagando a Coluna Id\n",
        "data$X =NULL"
      ],
      "execution_count": 61,
      "outputs": [
        {
          "output_type": "display_data",
          "data": {
            "text/plain": [
              "  X age workclass         final.weight education  education.num\n",
              "1 1 39   State-gov         77516        Bachelors 13           \n",
              "2 2 50   Self-emp-not-inc  83311        Bachelors 13           \n",
              "3 3 38   Private          215646        HS-grad    9           \n",
              "4 4 53   Private          234721        11th       7           \n",
              "5 5 28   Private          338409        Bachelors 13           \n",
              "6 6 37   Private          284582        Masters   14           \n",
              "  marital.status      occupation         relationship   race   sex    \n",
              "1  Never-married       Adm-clerical       Not-in-family  White  Male  \n",
              "2  Married-civ-spouse  Exec-managerial    Husband        White  Male  \n",
              "3  Divorced            Handlers-cleaners  Not-in-family  White  Male  \n",
              "4  Married-civ-spouse  Handlers-cleaners  Husband        Black  Male  \n",
              "5  Married-civ-spouse  Prof-specialty     Wife           Black  Female\n",
              "6  Married-civ-spouse  Exec-managerial    Wife           White  Female\n",
              "  capital.gain capital.loos hour.per.week native.country income\n",
              "1 2174         0            40             United-States  <=50K\n",
              "2    0         0            13             United-States  <=50K\n",
              "3    0         0            40             United-States  <=50K\n",
              "4    0         0            40             United-States  <=50K\n",
              "5    0         0            40             Cuba           <=50K\n",
              "6    0         0            40             United-States  <=50K"
            ],
            "text/latex": "A data.frame: 6 × 16\n\\begin{tabular}{r|llllllllllllllll}\n  & X & age & workclass & final.weight & education & education.num & marital.status & occupation & relationship & race & sex & capital.gain & capital.loos & hour.per.week & native.country & income\\\\\n  & <int> & <int> & <fct> & <int> & <fct> & <int> & <fct> & <fct> & <fct> & <fct> & <fct> & <int> & <int> & <int> & <fct> & <fct>\\\\\n\\hline\n\t1 & 1 & 39 &  State-gov        &  77516 &  Bachelors & 13 &  Never-married      &  Adm-clerical      &  Not-in-family &  White &  Male   & 2174 & 0 & 40 &  United-States &  <=50K\\\\\n\t2 & 2 & 50 &  Self-emp-not-inc &  83311 &  Bachelors & 13 &  Married-civ-spouse &  Exec-managerial   &  Husband       &  White &  Male   &    0 & 0 & 13 &  United-States &  <=50K\\\\\n\t3 & 3 & 38 &  Private          & 215646 &  HS-grad   &  9 &  Divorced           &  Handlers-cleaners &  Not-in-family &  White &  Male   &    0 & 0 & 40 &  United-States &  <=50K\\\\\n\t4 & 4 & 53 &  Private          & 234721 &  11th      &  7 &  Married-civ-spouse &  Handlers-cleaners &  Husband       &  Black &  Male   &    0 & 0 & 40 &  United-States &  <=50K\\\\\n\t5 & 5 & 28 &  Private          & 338409 &  Bachelors & 13 &  Married-civ-spouse &  Prof-specialty    &  Wife          &  Black &  Female &    0 & 0 & 40 &  Cuba          &  <=50K\\\\\n\t6 & 6 & 37 &  Private          & 284582 &  Masters   & 14 &  Married-civ-spouse &  Exec-managerial   &  Wife          &  White &  Female &    0 & 0 & 40 &  United-States &  <=50K\\\\\n\\end{tabular}\n",
            "text/markdown": "\nA data.frame: 6 × 16\n\n| <!--/--> | X &lt;int&gt; | age &lt;int&gt; | workclass &lt;fct&gt; | final.weight &lt;int&gt; | education &lt;fct&gt; | education.num &lt;int&gt; | marital.status &lt;fct&gt; | occupation &lt;fct&gt; | relationship &lt;fct&gt; | race &lt;fct&gt; | sex &lt;fct&gt; | capital.gain &lt;int&gt; | capital.loos &lt;int&gt; | hour.per.week &lt;int&gt; | native.country &lt;fct&gt; | income &lt;fct&gt; |\n|---|---|---|---|---|---|---|---|---|---|---|---|---|---|---|---|---|\n| 1 | 1 | 39 |  State-gov        |  77516 |  Bachelors | 13 |  Never-married      |  Adm-clerical      |  Not-in-family |  White |  Male   | 2174 | 0 | 40 |  United-States |  &lt;=50K |\n| 2 | 2 | 50 |  Self-emp-not-inc |  83311 |  Bachelors | 13 |  Married-civ-spouse |  Exec-managerial   |  Husband       |  White |  Male   |    0 | 0 | 13 |  United-States |  &lt;=50K |\n| 3 | 3 | 38 |  Private          | 215646 |  HS-grad   |  9 |  Divorced           |  Handlers-cleaners |  Not-in-family |  White |  Male   |    0 | 0 | 40 |  United-States |  &lt;=50K |\n| 4 | 4 | 53 |  Private          | 234721 |  11th      |  7 |  Married-civ-spouse |  Handlers-cleaners |  Husband       |  Black |  Male   |    0 | 0 | 40 |  United-States |  &lt;=50K |\n| 5 | 5 | 28 |  Private          | 338409 |  Bachelors | 13 |  Married-civ-spouse |  Prof-specialty    |  Wife          |  Black |  Female |    0 | 0 | 40 |  Cuba          |  &lt;=50K |\n| 6 | 6 | 37 |  Private          | 284582 |  Masters   | 14 |  Married-civ-spouse |  Exec-managerial   |  Wife          |  White |  Female |    0 | 0 | 40 |  United-States |  &lt;=50K |\n\n",
            "text/html": [
              "<table>\n",
              "<caption>A data.frame: 6 × 16</caption>\n",
              "<thead>\n",
              "\t<tr><th></th><th scope=col>X</th><th scope=col>age</th><th scope=col>workclass</th><th scope=col>final.weight</th><th scope=col>education</th><th scope=col>education.num</th><th scope=col>marital.status</th><th scope=col>occupation</th><th scope=col>relationship</th><th scope=col>race</th><th scope=col>sex</th><th scope=col>capital.gain</th><th scope=col>capital.loos</th><th scope=col>hour.per.week</th><th scope=col>native.country</th><th scope=col>income</th></tr>\n",
              "\t<tr><th></th><th scope=col>&lt;int&gt;</th><th scope=col>&lt;int&gt;</th><th scope=col>&lt;fct&gt;</th><th scope=col>&lt;int&gt;</th><th scope=col>&lt;fct&gt;</th><th scope=col>&lt;int&gt;</th><th scope=col>&lt;fct&gt;</th><th scope=col>&lt;fct&gt;</th><th scope=col>&lt;fct&gt;</th><th scope=col>&lt;fct&gt;</th><th scope=col>&lt;fct&gt;</th><th scope=col>&lt;int&gt;</th><th scope=col>&lt;int&gt;</th><th scope=col>&lt;int&gt;</th><th scope=col>&lt;fct&gt;</th><th scope=col>&lt;fct&gt;</th></tr>\n",
              "</thead>\n",
              "<tbody>\n",
              "\t<tr><th scope=row>1</th><td>1</td><td>39</td><td><span style=white-space:pre-wrap> State-gov       </span></td><td> 77516</td><td> Bachelors</td><td>13</td><td><span style=white-space:pre-wrap> Never-married     </span></td><td><span style=white-space:pre-wrap> Adm-clerical     </span></td><td> Not-in-family</td><td> White</td><td><span style=white-space:pre-wrap> Male  </span></td><td>2174</td><td>0</td><td>40</td><td> United-States</td><td> &lt;=50K</td></tr>\n",
              "\t<tr><th scope=row>2</th><td>2</td><td>50</td><td> Self-emp-not-inc</td><td> 83311</td><td> Bachelors</td><td>13</td><td> Married-civ-spouse</td><td><span style=white-space:pre-wrap> Exec-managerial  </span></td><td><span style=white-space:pre-wrap> Husband      </span></td><td> White</td><td><span style=white-space:pre-wrap> Male  </span></td><td><span style=white-space:pre-wrap>   0</span></td><td>0</td><td>13</td><td> United-States</td><td> &lt;=50K</td></tr>\n",
              "\t<tr><th scope=row>3</th><td>3</td><td>38</td><td><span style=white-space:pre-wrap> Private         </span></td><td>215646</td><td><span style=white-space:pre-wrap> HS-grad  </span></td><td> 9</td><td><span style=white-space:pre-wrap> Divorced          </span></td><td> Handlers-cleaners</td><td> Not-in-family</td><td> White</td><td><span style=white-space:pre-wrap> Male  </span></td><td><span style=white-space:pre-wrap>   0</span></td><td>0</td><td>40</td><td> United-States</td><td> &lt;=50K</td></tr>\n",
              "\t<tr><th scope=row>4</th><td>4</td><td>53</td><td><span style=white-space:pre-wrap> Private         </span></td><td>234721</td><td><span style=white-space:pre-wrap> 11th     </span></td><td> 7</td><td> Married-civ-spouse</td><td> Handlers-cleaners</td><td><span style=white-space:pre-wrap> Husband      </span></td><td> Black</td><td><span style=white-space:pre-wrap> Male  </span></td><td><span style=white-space:pre-wrap>   0</span></td><td>0</td><td>40</td><td> United-States</td><td> &lt;=50K</td></tr>\n",
              "\t<tr><th scope=row>5</th><td>5</td><td>28</td><td><span style=white-space:pre-wrap> Private         </span></td><td>338409</td><td> Bachelors</td><td>13</td><td> Married-civ-spouse</td><td><span style=white-space:pre-wrap> Prof-specialty   </span></td><td><span style=white-space:pre-wrap> Wife         </span></td><td> Black</td><td> Female</td><td><span style=white-space:pre-wrap>   0</span></td><td>0</td><td>40</td><td><span style=white-space:pre-wrap> Cuba         </span></td><td> &lt;=50K</td></tr>\n",
              "\t<tr><th scope=row>6</th><td>6</td><td>37</td><td><span style=white-space:pre-wrap> Private         </span></td><td>284582</td><td><span style=white-space:pre-wrap> Masters  </span></td><td>14</td><td> Married-civ-spouse</td><td><span style=white-space:pre-wrap> Exec-managerial  </span></td><td><span style=white-space:pre-wrap> Wife         </span></td><td> White</td><td> Female</td><td><span style=white-space:pre-wrap>   0</span></td><td>0</td><td>40</td><td> United-States</td><td> &lt;=50K</td></tr>\n",
              "</tbody>\n",
              "</table>\n"
            ]
          },
          "metadata": {
            "tags": []
          }
        },
        {
          "output_type": "stream",
          "text": [
            "'data.frame':\t30162 obs. of  16 variables:\n",
            " $ X             : int  1 2 3 4 5 6 7 8 9 10 ...\n",
            " $ age           : int  39 50 38 53 28 37 49 52 31 42 ...\n",
            " $ workclass     : Factor w/ 7 levels \" Federal-gov\",..: 6 5 3 3 3 3 3 5 3 3 ...\n",
            " $ final.weight  : int  77516 83311 215646 234721 338409 284582 160187 209642 45781 159449 ...\n",
            " $ education     : Factor w/ 16 levels \" 10th\",\" 11th\",..: 10 10 12 2 10 13 7 12 13 10 ...\n",
            " $ education.num : int  13 13 9 7 13 14 5 9 14 13 ...\n",
            " $ marital.status: Factor w/ 7 levels \" Divorced\",\" Married-AF-spouse\",..: 5 3 1 3 3 3 4 3 5 3 ...\n",
            " $ occupation    : Factor w/ 14 levels \" Adm-clerical\",..: 1 4 6 6 10 4 8 4 10 4 ...\n",
            " $ relationship  : Factor w/ 6 levels \" Husband\",\" Not-in-family\",..: 2 1 2 1 6 6 2 1 2 1 ...\n",
            " $ race          : Factor w/ 5 levels \" Amer-Indian-Eskimo\",..: 5 5 5 3 3 5 3 5 5 5 ...\n",
            " $ sex           : Factor w/ 2 levels \" Female\",\" Male\": 2 2 2 2 1 1 1 2 1 2 ...\n",
            " $ capital.gain  : int  2174 0 0 0 0 0 0 0 14084 5178 ...\n",
            " $ capital.loos  : int  0 0 0 0 0 0 0 0 0 0 ...\n",
            " $ hour.per.week : int  40 13 40 40 40 40 16 45 50 40 ...\n",
            " $ native.country: Factor w/ 41 levels \" Cambodia\",\" Canada\",..: 39 39 39 39 5 39 23 39 39 39 ...\n",
            " $ income        : Factor w/ 2 levels \" <=50K\",\" >50K\": 1 1 1 1 1 1 1 2 2 2 ...\n"
          ],
          "name": "stdout"
        }
      ]
    },
    {
      "cell_type": "code",
      "metadata": {
        "id": "Ys0IMRg5Om5A",
        "colab_type": "code",
        "colab": {
          "base_uri": "https://localhost:8080/",
          "height": 408
        },
        "outputId": "2b5a0b34-4666-404e-d13e-7c5ee21c485e"
      },
      "source": [
        "## 2) Tratando transformando os valores em factors\n",
        "\n",
        "table(data$sex) ##Visualisando uma tabela específica resumo sobre os valores de sexo\n",
        "\n",
        "data$sex <- factor(data$sex, levels = c(\" Female\", \" Male\"), labels = c(0,1)) # Criando um fator de 0 ou 1 para os sexos masculinos e femininos.\n",
        "#Workclass\n",
        "\n",
        "table(data$workclass)\n",
        "data$workclass <- factor(data$workclass, levels = c(\" Federal-gov\", \" Local-gov\", \" Private\", \" Self-emp-inc\", \" Self-emp-not-inc\", \" State-gov\", \" Without-pay\"), labels = c(0,1,2,3,4,5,6))\n",
        "data$education <- factor(data$education, levels = c(\" 10th\", \" 11th\", \" 12th\", \" 1st-4th\", \" 5th-6th\", \" 7th-8th\", \" 9th\", \" Assoc-acdm\", \" Assoc-voc\", \" Bachelors\", \" Doctorate\", \" HS-grad\", \" Masters\", \" Preschool\", \" Prof-school\", \" Some-college\"), labels = c(0,1,2,3,4,5,6,7,8,9,10,11,12,13,14,15))\n",
        "data$marital.status <- factor(data$marital.status, levels = c(\" Divorced\", \" Married-AF-spouse\", \" Married-civ-spouse\", \" Married-spouse-absent\", \" Never-married\", \" Separated\", \" Widowed\"), labels = c(0,1,2,3,4,5,6))\n",
        "data$occupation <- factor(data$occupation, levels = c(\" Adm-clerical\", \" Armed-Forces\", \" Craft-repair\",\" Exec-managerial\",\" Farming-fishing\", \" Handlers-cleaners\", \" Machine-op-inspct\", \" Other-service\", \" Priv-house-serv\", \" Prof-specialty\", \" Protective-serv\", \" Sales\", \" Tech-support\", \" Transport-moving\"), labels = c(0,1,2,3,4,5,6,7,8,9,10,11,12,13))\n",
        "u <- unique(data$relationship) # criando um vetor de dados únicos \n",
        "as.vector(u)\n",
        "\n",
        "data$relationship <- factor(data$relationship, levels = u, labels = c(0,1,2,3,4,5))\n",
        "r <- unique(data$race)\n",
        "as.vector(r)\n",
        "\n",
        "data$race <- factor(data$race, levels = r, labels = c(0,1,2,3,4))\n",
        "\n",
        "nc <- unique(data$native.country)\n",
        "as.vector(nc)\n",
        "\n",
        "data$native.country <- factor(data$native.country, levels = nc, labels = c(0:40))\n",
        "data$income <- factor(data$income, levels = c(\" <=50K\", \" >50K\"), labels = c(0,1))\n",
        "\n",
        "head(data)\n"
      ],
      "execution_count": 62,
      "outputs": [
        {
          "output_type": "display_data",
          "data": {
            "text/plain": [
              "\n",
              " Female    Male \n",
              "   9782   20380 "
            ]
          },
          "metadata": {
            "tags": []
          }
        },
        {
          "output_type": "display_data",
          "data": {
            "text/plain": [
              "\n",
              "      Federal-gov         Local-gov           Private      Self-emp-inc \n",
              "              943              2067             22286              1074 \n",
              " Self-emp-not-inc         State-gov       Without-pay \n",
              "             2499              1279                14 "
            ]
          },
          "metadata": {
            "tags": []
          }
        },
        {
          "output_type": "display_data",
          "data": {
            "text/plain": [
              "[1] \" Not-in-family\"  \" Husband\"        \" Wife\"           \" Own-child\"     \n",
              "[5] \" Unmarried\"      \" Other-relative\""
            ],
            "text/latex": "\\begin{enumerate*}\n\\item ' Not-in-family'\n\\item ' Husband'\n\\item ' Wife'\n\\item ' Own-child'\n\\item ' Unmarried'\n\\item ' Other-relative'\n\\end{enumerate*}\n",
            "text/markdown": "1. ' Not-in-family'\n2. ' Husband'\n3. ' Wife'\n4. ' Own-child'\n5. ' Unmarried'\n6. ' Other-relative'\n\n\n",
            "text/html": [
              "<style>\n",
              ".list-inline {list-style: none; margin:0; padding: 0}\n",
              ".list-inline>li {display: inline-block}\n",
              ".list-inline>li:not(:last-child)::after {content: \"\\00b7\"; padding: 0 .5ex}\n",
              "</style>\n",
              "<ol class=list-inline><li>' Not-in-family'</li><li>' Husband'</li><li>' Wife'</li><li>' Own-child'</li><li>' Unmarried'</li><li>' Other-relative'</li></ol>\n"
            ]
          },
          "metadata": {
            "tags": []
          }
        },
        {
          "output_type": "display_data",
          "data": {
            "text/plain": [
              "[1] \" White\"              \" Black\"              \" Asian-Pac-Islander\"\n",
              "[4] \" Amer-Indian-Eskimo\" \" Other\"             "
            ],
            "text/latex": "\\begin{enumerate*}\n\\item ' White'\n\\item ' Black'\n\\item ' Asian-Pac-Islander'\n\\item ' Amer-Indian-Eskimo'\n\\item ' Other'\n\\end{enumerate*}\n",
            "text/markdown": "1. ' White'\n2. ' Black'\n3. ' Asian-Pac-Islander'\n4. ' Amer-Indian-Eskimo'\n5. ' Other'\n\n\n",
            "text/html": [
              "<style>\n",
              ".list-inline {list-style: none; margin:0; padding: 0}\n",
              ".list-inline>li {display: inline-block}\n",
              ".list-inline>li:not(:last-child)::after {content: \"\\00b7\"; padding: 0 .5ex}\n",
              "</style>\n",
              "<ol class=list-inline><li>' White'</li><li>' Black'</li><li>' Asian-Pac-Islander'</li><li>' Amer-Indian-Eskimo'</li><li>' Other'</li></ol>\n"
            ]
          },
          "metadata": {
            "tags": []
          }
        },
        {
          "output_type": "display_data",
          "data": {
            "text/plain": [
              " [1] \" United-States\"              \" Cuba\"                      \n",
              " [3] \" Jamaica\"                    \" India\"                     \n",
              " [5] \" Mexico\"                     \" Puerto-Rico\"               \n",
              " [7] \" Honduras\"                   \" England\"                   \n",
              " [9] \" Canada\"                     \" Germany\"                   \n",
              "[11] \" Iran\"                       \" Philippines\"               \n",
              "[13] \" Poland\"                     \" Columbia\"                  \n",
              "[15] \" Cambodia\"                   \" Thailand\"                  \n",
              "[17] \" Ecuador\"                    \" Laos\"                      \n",
              "[19] \" Taiwan\"                     \" Haiti\"                     \n",
              "[21] \" Portugal\"                   \" Dominican-Republic\"        \n",
              "[23] \" El-Salvador\"                \" France\"                    \n",
              "[25] \" Guatemala\"                  \" Italy\"                     \n",
              "[27] \" China\"                      \" South\"                     \n",
              "[29] \" Japan\"                      \" Yugoslavia\"                \n",
              "[31] \" Peru\"                       \" Outlying-US(Guam-USVI-etc)\"\n",
              "[33] \" Scotland\"                   \" Trinadad&Tobago\"           \n",
              "[35] \" Greece\"                     \" Nicaragua\"                 \n",
              "[37] \" Vietnam\"                    \" Hong\"                      \n",
              "[39] \" Ireland\"                    \" Hungary\"                   \n",
              "[41] \" Holand-Netherlands\"        "
            ],
            "text/latex": "\\begin{enumerate*}\n\\item ' United-States'\n\\item ' Cuba'\n\\item ' Jamaica'\n\\item ' India'\n\\item ' Mexico'\n\\item ' Puerto-Rico'\n\\item ' Honduras'\n\\item ' England'\n\\item ' Canada'\n\\item ' Germany'\n\\item ' Iran'\n\\item ' Philippines'\n\\item ' Poland'\n\\item ' Columbia'\n\\item ' Cambodia'\n\\item ' Thailand'\n\\item ' Ecuador'\n\\item ' Laos'\n\\item ' Taiwan'\n\\item ' Haiti'\n\\item ' Portugal'\n\\item ' Dominican-Republic'\n\\item ' El-Salvador'\n\\item ' France'\n\\item ' Guatemala'\n\\item ' Italy'\n\\item ' China'\n\\item ' South'\n\\item ' Japan'\n\\item ' Yugoslavia'\n\\item ' Peru'\n\\item ' Outlying-US(Guam-USVI-etc)'\n\\item ' Scotland'\n\\item ' Trinadad\\&Tobago'\n\\item ' Greece'\n\\item ' Nicaragua'\n\\item ' Vietnam'\n\\item ' Hong'\n\\item ' Ireland'\n\\item ' Hungary'\n\\item ' Holand-Netherlands'\n\\end{enumerate*}\n",
            "text/markdown": "1. ' United-States'\n2. ' Cuba'\n3. ' Jamaica'\n4. ' India'\n5. ' Mexico'\n6. ' Puerto-Rico'\n7. ' Honduras'\n8. ' England'\n9. ' Canada'\n10. ' Germany'\n11. ' Iran'\n12. ' Philippines'\n13. ' Poland'\n14. ' Columbia'\n15. ' Cambodia'\n16. ' Thailand'\n17. ' Ecuador'\n18. ' Laos'\n19. ' Taiwan'\n20. ' Haiti'\n21. ' Portugal'\n22. ' Dominican-Republic'\n23. ' El-Salvador'\n24. ' France'\n25. ' Guatemala'\n26. ' Italy'\n27. ' China'\n28. ' South'\n29. ' Japan'\n30. ' Yugoslavia'\n31. ' Peru'\n32. ' Outlying-US(Guam-USVI-etc)'\n33. ' Scotland'\n34. ' Trinadad&amp;Tobago'\n35. ' Greece'\n36. ' Nicaragua'\n37. ' Vietnam'\n38. ' Hong'\n39. ' Ireland'\n40. ' Hungary'\n41. ' Holand-Netherlands'\n\n\n",
            "text/html": [
              "<style>\n",
              ".list-inline {list-style: none; margin:0; padding: 0}\n",
              ".list-inline>li {display: inline-block}\n",
              ".list-inline>li:not(:last-child)::after {content: \"\\00b7\"; padding: 0 .5ex}\n",
              "</style>\n",
              "<ol class=list-inline><li>' United-States'</li><li>' Cuba'</li><li>' Jamaica'</li><li>' India'</li><li>' Mexico'</li><li>' Puerto-Rico'</li><li>' Honduras'</li><li>' England'</li><li>' Canada'</li><li>' Germany'</li><li>' Iran'</li><li>' Philippines'</li><li>' Poland'</li><li>' Columbia'</li><li>' Cambodia'</li><li>' Thailand'</li><li>' Ecuador'</li><li>' Laos'</li><li>' Taiwan'</li><li>' Haiti'</li><li>' Portugal'</li><li>' Dominican-Republic'</li><li>' El-Salvador'</li><li>' France'</li><li>' Guatemala'</li><li>' Italy'</li><li>' China'</li><li>' South'</li><li>' Japan'</li><li>' Yugoslavia'</li><li>' Peru'</li><li>' Outlying-US(Guam-USVI-etc)'</li><li>' Scotland'</li><li>' Trinadad&amp;Tobago'</li><li>' Greece'</li><li>' Nicaragua'</li><li>' Vietnam'</li><li>' Hong'</li><li>' Ireland'</li><li>' Hungary'</li><li>' Holand-Netherlands'</li></ol>\n"
            ]
          },
          "metadata": {
            "tags": []
          }
        },
        {
          "output_type": "display_data",
          "data": {
            "text/plain": [
              "  age workclass final.weight education education.num marital.status occupation\n",
              "1 39  5          77516       9         13            4              0         \n",
              "2 50  4          83311       9         13            2              3         \n",
              "3 38  2         215646       11         9            0              5         \n",
              "4 53  2         234721       1          7            2              5         \n",
              "5 28  2         338409       9         13            2              9         \n",
              "6 37  2         284582       12        14            2              3         \n",
              "  relationship race sex capital.gain capital.loos hour.per.week native.country\n",
              "1 0            0    1   2174         0            40            0             \n",
              "2 1            0    1      0         0            13            0             \n",
              "3 0            0    1      0         0            40            0             \n",
              "4 1            1    1      0         0            40            0             \n",
              "5 2            1    0      0         0            40            1             \n",
              "6 2            0    0      0         0            40            0             \n",
              "  income\n",
              "1 0     \n",
              "2 0     \n",
              "3 0     \n",
              "4 0     \n",
              "5 0     \n",
              "6 0     "
            ],
            "text/latex": "A data.frame: 6 × 15\n\\begin{tabular}{r|lllllllllllllll}\n  & age & workclass & final.weight & education & education.num & marital.status & occupation & relationship & race & sex & capital.gain & capital.loos & hour.per.week & native.country & income\\\\\n  & <int> & <fct> & <int> & <fct> & <int> & <fct> & <fct> & <fct> & <fct> & <fct> & <int> & <int> & <int> & <fct> & <fct>\\\\\n\\hline\n\t1 & 39 & 5 &  77516 & 9  & 13 & 4 & 0 & 0 & 0 & 1 & 2174 & 0 & 40 & 0 & 0\\\\\n\t2 & 50 & 4 &  83311 & 9  & 13 & 2 & 3 & 1 & 0 & 1 &    0 & 0 & 13 & 0 & 0\\\\\n\t3 & 38 & 2 & 215646 & 11 &  9 & 0 & 5 & 0 & 0 & 1 &    0 & 0 & 40 & 0 & 0\\\\\n\t4 & 53 & 2 & 234721 & 1  &  7 & 2 & 5 & 1 & 1 & 1 &    0 & 0 & 40 & 0 & 0\\\\\n\t5 & 28 & 2 & 338409 & 9  & 13 & 2 & 9 & 2 & 1 & 0 &    0 & 0 & 40 & 1 & 0\\\\\n\t6 & 37 & 2 & 284582 & 12 & 14 & 2 & 3 & 2 & 0 & 0 &    0 & 0 & 40 & 0 & 0\\\\\n\\end{tabular}\n",
            "text/markdown": "\nA data.frame: 6 × 15\n\n| <!--/--> | age &lt;int&gt; | workclass &lt;fct&gt; | final.weight &lt;int&gt; | education &lt;fct&gt; | education.num &lt;int&gt; | marital.status &lt;fct&gt; | occupation &lt;fct&gt; | relationship &lt;fct&gt; | race &lt;fct&gt; | sex &lt;fct&gt; | capital.gain &lt;int&gt; | capital.loos &lt;int&gt; | hour.per.week &lt;int&gt; | native.country &lt;fct&gt; | income &lt;fct&gt; |\n|---|---|---|---|---|---|---|---|---|---|---|---|---|---|---|---|\n| 1 | 39 | 5 |  77516 | 9  | 13 | 4 | 0 | 0 | 0 | 1 | 2174 | 0 | 40 | 0 | 0 |\n| 2 | 50 | 4 |  83311 | 9  | 13 | 2 | 3 | 1 | 0 | 1 |    0 | 0 | 13 | 0 | 0 |\n| 3 | 38 | 2 | 215646 | 11 |  9 | 0 | 5 | 0 | 0 | 1 |    0 | 0 | 40 | 0 | 0 |\n| 4 | 53 | 2 | 234721 | 1  |  7 | 2 | 5 | 1 | 1 | 1 |    0 | 0 | 40 | 0 | 0 |\n| 5 | 28 | 2 | 338409 | 9  | 13 | 2 | 9 | 2 | 1 | 0 |    0 | 0 | 40 | 1 | 0 |\n| 6 | 37 | 2 | 284582 | 12 | 14 | 2 | 3 | 2 | 0 | 0 |    0 | 0 | 40 | 0 | 0 |\n\n",
            "text/html": [
              "<table>\n",
              "<caption>A data.frame: 6 × 15</caption>\n",
              "<thead>\n",
              "\t<tr><th></th><th scope=col>age</th><th scope=col>workclass</th><th scope=col>final.weight</th><th scope=col>education</th><th scope=col>education.num</th><th scope=col>marital.status</th><th scope=col>occupation</th><th scope=col>relationship</th><th scope=col>race</th><th scope=col>sex</th><th scope=col>capital.gain</th><th scope=col>capital.loos</th><th scope=col>hour.per.week</th><th scope=col>native.country</th><th scope=col>income</th></tr>\n",
              "\t<tr><th></th><th scope=col>&lt;int&gt;</th><th scope=col>&lt;fct&gt;</th><th scope=col>&lt;int&gt;</th><th scope=col>&lt;fct&gt;</th><th scope=col>&lt;int&gt;</th><th scope=col>&lt;fct&gt;</th><th scope=col>&lt;fct&gt;</th><th scope=col>&lt;fct&gt;</th><th scope=col>&lt;fct&gt;</th><th scope=col>&lt;fct&gt;</th><th scope=col>&lt;int&gt;</th><th scope=col>&lt;int&gt;</th><th scope=col>&lt;int&gt;</th><th scope=col>&lt;fct&gt;</th><th scope=col>&lt;fct&gt;</th></tr>\n",
              "</thead>\n",
              "<tbody>\n",
              "\t<tr><th scope=row>1</th><td>39</td><td>5</td><td> 77516</td><td>9 </td><td>13</td><td>4</td><td>0</td><td>0</td><td>0</td><td>1</td><td>2174</td><td>0</td><td>40</td><td>0</td><td>0</td></tr>\n",
              "\t<tr><th scope=row>2</th><td>50</td><td>4</td><td> 83311</td><td>9 </td><td>13</td><td>2</td><td>3</td><td>1</td><td>0</td><td>1</td><td>   0</td><td>0</td><td>13</td><td>0</td><td>0</td></tr>\n",
              "\t<tr><th scope=row>3</th><td>38</td><td>2</td><td>215646</td><td>11</td><td> 9</td><td>0</td><td>5</td><td>0</td><td>0</td><td>1</td><td>   0</td><td>0</td><td>40</td><td>0</td><td>0</td></tr>\n",
              "\t<tr><th scope=row>4</th><td>53</td><td>2</td><td>234721</td><td>1 </td><td> 7</td><td>2</td><td>5</td><td>1</td><td>1</td><td>1</td><td>   0</td><td>0</td><td>40</td><td>0</td><td>0</td></tr>\n",
              "\t<tr><th scope=row>5</th><td>28</td><td>2</td><td>338409</td><td>9 </td><td>13</td><td>2</td><td>9</td><td>2</td><td>1</td><td>0</td><td>   0</td><td>0</td><td>40</td><td>1</td><td>0</td></tr>\n",
              "\t<tr><th scope=row>6</th><td>37</td><td>2</td><td>284582</td><td>12</td><td>14</td><td>2</td><td>3</td><td>2</td><td>0</td><td>0</td><td>   0</td><td>0</td><td>40</td><td>0</td><td>0</td></tr>\n",
              "</tbody>\n",
              "</table>\n"
            ]
          },
          "metadata": {
            "tags": []
          }
        }
      ]
    },
    {
      "cell_type": "code",
      "metadata": {
        "id": "PD5aK6NPP5Kd",
        "colab_type": "code",
        "colab": {
          "base_uri": "https://localhost:8080/",
          "height": 1000
        },
        "outputId": "6cb2fb48-0dcd-49bd-8138-84239266edb5"
      },
      "source": [
        "str(data)\n",
        "summary(data)\n",
        "head(data)"
      ],
      "execution_count": 41,
      "outputs": [
        {
          "output_type": "stream",
          "text": [
            "'data.frame':\t30162 obs. of  15 variables:\n",
            " $ age           : int  39 50 38 53 28 37 49 52 31 42 ...\n",
            " $ workclass     : Factor w/ 7 levels \" Federal-gov\",..: 6 5 3 3 3 3 3 5 3 3 ...\n",
            " $ final.weight  : int  77516 83311 215646 234721 338409 284582 160187 209642 45781 159449 ...\n",
            " $ education     : Factor w/ 16 levels \" 10th\",\" 11th\",..: 10 10 12 2 10 13 7 12 13 10 ...\n",
            " $ education.num : int  13 13 9 7 13 14 5 9 14 13 ...\n",
            " $ marital.status: Factor w/ 7 levels \" Divorced\",\" Married-AF-spouse\",..: 5 3 1 3 3 3 4 3 5 3 ...\n",
            " $ occupation    : Factor w/ 14 levels \" Adm-clerical\",..: 1 4 6 6 10 4 8 4 10 4 ...\n",
            " $ relationship  : Factor w/ 6 levels \"0\",\"1\",\"2\",\"3\",..: 1 2 1 2 3 3 1 2 1 2 ...\n",
            " $ race          : Factor w/ 5 levels \"0\",\"1\",\"2\",\"3\",..: 1 1 1 2 2 1 2 1 1 1 ...\n",
            " $ sex           : Factor w/ 2 levels \"0\",\"1\": 2 2 2 2 1 1 1 2 1 2 ...\n",
            " $ capital.gain  : int  2174 0 0 0 0 0 0 0 14084 5178 ...\n",
            " $ capital.loos  : int  0 0 0 0 0 0 0 0 0 0 ...\n",
            " $ hour.per.week : int  40 13 40 40 40 40 16 45 50 40 ...\n",
            " $ native.country: Factor w/ 41 levels \"0\",\"1\",\"2\",\"3\",..: 1 1 1 1 2 1 3 1 1 1 ...\n",
            " $ income        : Factor w/ 2 levels \"0\",\"1\": 1 1 1 1 1 1 1 2 2 2 ...\n"
          ],
          "name": "stdout"
        },
        {
          "output_type": "display_data",
          "data": {
            "text/plain": [
              "      age                    workclass      final.weight    \n",
              " Min.   :17.00    Federal-gov     :  943   Min.   :  13769  \n",
              " 1st Qu.:28.00    Local-gov       : 2067   1st Qu.: 117627  \n",
              " Median :37.00    Private         :22286   Median : 178425  \n",
              " Mean   :38.44    Self-emp-inc    : 1074   Mean   : 189794  \n",
              " 3rd Qu.:47.00    Self-emp-not-inc: 2499   3rd Qu.: 237628  \n",
              " Max.   :90.00    State-gov       : 1279   Max.   :1484705  \n",
              "                  Without-pay     :   14                    \n",
              "         education    education.num                  marital.status \n",
              "  HS-grad     :9840   Min.   : 1.00    Divorced             : 4214  \n",
              "  Some-college:6678   1st Qu.: 9.00    Married-AF-spouse    :   21  \n",
              "  Bachelors   :5044   Median :10.00    Married-civ-spouse   :14065  \n",
              "  Masters     :1627   Mean   :10.12    Married-spouse-absent:  370  \n",
              "  Assoc-voc   :1307   3rd Qu.:13.00    Never-married        : 9726  \n",
              "  11th        :1048   Max.   :16.00    Separated            :  939  \n",
              " (Other)      :4618                    Widowed              :  827  \n",
              "            occupation   relationship race      sex        capital.gain  \n",
              "  Prof-specialty :4038   0: 7726      0:25933   0: 9782   Min.   :    0  \n",
              "  Craft-repair   :4030   1:12463      1: 2817   1:20380   1st Qu.:    0  \n",
              "  Exec-managerial:3992   2: 1406      2:  895             Median :    0  \n",
              "  Adm-clerical   :3721   3: 4466      3:  286             Mean   : 1092  \n",
              "  Sales          :3584   4: 3212      4:  231             3rd Qu.:    0  \n",
              "  Other-service  :3212   5:  889                          Max.   :99999  \n",
              " (Other)         :7585                                                   \n",
              "  capital.loos     hour.per.week   native.country  income   \n",
              " Min.   :   0.00   Min.   : 1.00   0      :27504   0:22654  \n",
              " 1st Qu.:   0.00   1st Qu.:40.00   4      :  610   1: 7508  \n",
              " Median :   0.00   Median :40.00   11     :  188            \n",
              " Mean   :  88.37   Mean   :40.93   9      :  128            \n",
              " 3rd Qu.:   0.00   3rd Qu.:45.00   5      :  109            \n",
              " Max.   :4356.00   Max.   :99.00   8      :  107            \n",
              "                                   (Other): 1516            "
            ]
          },
          "metadata": {
            "tags": []
          }
        },
        {
          "output_type": "display_data",
          "data": {
            "text/plain": [
              "  age workclass         final.weight education  education.num\n",
              "1 39   State-gov         77516        Bachelors 13           \n",
              "2 50   Self-emp-not-inc  83311        Bachelors 13           \n",
              "3 38   Private          215646        HS-grad    9           \n",
              "4 53   Private          234721        11th       7           \n",
              "5 28   Private          338409        Bachelors 13           \n",
              "6 37   Private          284582        Masters   14           \n",
              "  marital.status      occupation         relationship race sex capital.gain\n",
              "1  Never-married       Adm-clerical      0            0    1   2174        \n",
              "2  Married-civ-spouse  Exec-managerial   1            0    1      0        \n",
              "3  Divorced            Handlers-cleaners 0            0    1      0        \n",
              "4  Married-civ-spouse  Handlers-cleaners 1            1    1      0        \n",
              "5  Married-civ-spouse  Prof-specialty    2            1    0      0        \n",
              "6  Married-civ-spouse  Exec-managerial   2            0    0      0        \n",
              "  capital.loos hour.per.week native.country income\n",
              "1 0            40            0              0     \n",
              "2 0            13            0              0     \n",
              "3 0            40            0              0     \n",
              "4 0            40            0              0     \n",
              "5 0            40            1              0     \n",
              "6 0            40            0              0     "
            ],
            "text/latex": "A data.frame: 6 × 15\n\\begin{tabular}{r|lllllllllllllll}\n  & age & workclass & final.weight & education & education.num & marital.status & occupation & relationship & race & sex & capital.gain & capital.loos & hour.per.week & native.country & income\\\\\n  & <int> & <fct> & <int> & <fct> & <int> & <fct> & <fct> & <fct> & <fct> & <fct> & <int> & <int> & <int> & <fct> & <fct>\\\\\n\\hline\n\t1 & 39 &  State-gov        &  77516 &  Bachelors & 13 &  Never-married      &  Adm-clerical      & 0 & 0 & 1 & 2174 & 0 & 40 & 0 & 0\\\\\n\t2 & 50 &  Self-emp-not-inc &  83311 &  Bachelors & 13 &  Married-civ-spouse &  Exec-managerial   & 1 & 0 & 1 &    0 & 0 & 13 & 0 & 0\\\\\n\t3 & 38 &  Private          & 215646 &  HS-grad   &  9 &  Divorced           &  Handlers-cleaners & 0 & 0 & 1 &    0 & 0 & 40 & 0 & 0\\\\\n\t4 & 53 &  Private          & 234721 &  11th      &  7 &  Married-civ-spouse &  Handlers-cleaners & 1 & 1 & 1 &    0 & 0 & 40 & 0 & 0\\\\\n\t5 & 28 &  Private          & 338409 &  Bachelors & 13 &  Married-civ-spouse &  Prof-specialty    & 2 & 1 & 0 &    0 & 0 & 40 & 1 & 0\\\\\n\t6 & 37 &  Private          & 284582 &  Masters   & 14 &  Married-civ-spouse &  Exec-managerial   & 2 & 0 & 0 &    0 & 0 & 40 & 0 & 0\\\\\n\\end{tabular}\n",
            "text/markdown": "\nA data.frame: 6 × 15\n\n| <!--/--> | age &lt;int&gt; | workclass &lt;fct&gt; | final.weight &lt;int&gt; | education &lt;fct&gt; | education.num &lt;int&gt; | marital.status &lt;fct&gt; | occupation &lt;fct&gt; | relationship &lt;fct&gt; | race &lt;fct&gt; | sex &lt;fct&gt; | capital.gain &lt;int&gt; | capital.loos &lt;int&gt; | hour.per.week &lt;int&gt; | native.country &lt;fct&gt; | income &lt;fct&gt; |\n|---|---|---|---|---|---|---|---|---|---|---|---|---|---|---|---|\n| 1 | 39 |  State-gov        |  77516 |  Bachelors | 13 |  Never-married      |  Adm-clerical      | 0 | 0 | 1 | 2174 | 0 | 40 | 0 | 0 |\n| 2 | 50 |  Self-emp-not-inc |  83311 |  Bachelors | 13 |  Married-civ-spouse |  Exec-managerial   | 1 | 0 | 1 |    0 | 0 | 13 | 0 | 0 |\n| 3 | 38 |  Private          | 215646 |  HS-grad   |  9 |  Divorced           |  Handlers-cleaners | 0 | 0 | 1 |    0 | 0 | 40 | 0 | 0 |\n| 4 | 53 |  Private          | 234721 |  11th      |  7 |  Married-civ-spouse |  Handlers-cleaners | 1 | 1 | 1 |    0 | 0 | 40 | 0 | 0 |\n| 5 | 28 |  Private          | 338409 |  Bachelors | 13 |  Married-civ-spouse |  Prof-specialty    | 2 | 1 | 0 |    0 | 0 | 40 | 1 | 0 |\n| 6 | 37 |  Private          | 284582 |  Masters   | 14 |  Married-civ-spouse |  Exec-managerial   | 2 | 0 | 0 |    0 | 0 | 40 | 0 | 0 |\n\n",
            "text/html": [
              "<table>\n",
              "<caption>A data.frame: 6 × 15</caption>\n",
              "<thead>\n",
              "\t<tr><th></th><th scope=col>age</th><th scope=col>workclass</th><th scope=col>final.weight</th><th scope=col>education</th><th scope=col>education.num</th><th scope=col>marital.status</th><th scope=col>occupation</th><th scope=col>relationship</th><th scope=col>race</th><th scope=col>sex</th><th scope=col>capital.gain</th><th scope=col>capital.loos</th><th scope=col>hour.per.week</th><th scope=col>native.country</th><th scope=col>income</th></tr>\n",
              "\t<tr><th></th><th scope=col>&lt;int&gt;</th><th scope=col>&lt;fct&gt;</th><th scope=col>&lt;int&gt;</th><th scope=col>&lt;fct&gt;</th><th scope=col>&lt;int&gt;</th><th scope=col>&lt;fct&gt;</th><th scope=col>&lt;fct&gt;</th><th scope=col>&lt;fct&gt;</th><th scope=col>&lt;fct&gt;</th><th scope=col>&lt;fct&gt;</th><th scope=col>&lt;int&gt;</th><th scope=col>&lt;int&gt;</th><th scope=col>&lt;int&gt;</th><th scope=col>&lt;fct&gt;</th><th scope=col>&lt;fct&gt;</th></tr>\n",
              "</thead>\n",
              "<tbody>\n",
              "\t<tr><th scope=row>1</th><td>39</td><td> State-gov       </td><td> 77516</td><td> Bachelors</td><td>13</td><td> Never-married     </td><td> Adm-clerical     </td><td>0</td><td>0</td><td>1</td><td>2174</td><td>0</td><td>40</td><td>0</td><td>0</td></tr>\n",
              "\t<tr><th scope=row>2</th><td>50</td><td> Self-emp-not-inc</td><td> 83311</td><td> Bachelors</td><td>13</td><td> Married-civ-spouse</td><td> Exec-managerial  </td><td>1</td><td>0</td><td>1</td><td>   0</td><td>0</td><td>13</td><td>0</td><td>0</td></tr>\n",
              "\t<tr><th scope=row>3</th><td>38</td><td> Private         </td><td>215646</td><td> HS-grad  </td><td> 9</td><td> Divorced          </td><td> Handlers-cleaners</td><td>0</td><td>0</td><td>1</td><td>   0</td><td>0</td><td>40</td><td>0</td><td>0</td></tr>\n",
              "\t<tr><th scope=row>4</th><td>53</td><td> Private         </td><td>234721</td><td> 11th     </td><td> 7</td><td> Married-civ-spouse</td><td> Handlers-cleaners</td><td>1</td><td>1</td><td>1</td><td>   0</td><td>0</td><td>40</td><td>0</td><td>0</td></tr>\n",
              "\t<tr><th scope=row>5</th><td>28</td><td> Private         </td><td>338409</td><td> Bachelors</td><td>13</td><td> Married-civ-spouse</td><td> Prof-specialty   </td><td>2</td><td>1</td><td>0</td><td>   0</td><td>0</td><td>40</td><td>1</td><td>0</td></tr>\n",
              "\t<tr><th scope=row>6</th><td>37</td><td> Private         </td><td>284582</td><td> Masters  </td><td>14</td><td> Married-civ-spouse</td><td> Exec-managerial  </td><td>2</td><td>0</td><td>0</td><td>   0</td><td>0</td><td>40</td><td>0</td><td>0</td></tr>\n",
              "</tbody>\n",
              "</table>\n"
            ]
          },
          "metadata": {
            "tags": []
          }
        }
      ]
    },
    {
      "cell_type": "code",
      "metadata": {
        "id": "MH5a5dBrQFh7",
        "colab_type": "code",
        "colab": {
          "base_uri": "https://localhost:8080/",
          "height": 204
        },
        "outputId": "c6adcc83-41be-4421-c90b-f63728326e7b"
      },
      "source": [
        "## 3) Normalizando os dados\n",
        "\n",
        "data[,1] = scale(data[,1])\n",
        "data[,3] = scale(data[,3])\n",
        "data[,5] = scale(data[,5])\n",
        "data[,11:13] = scale(data[,11:13])\n",
        "head(data)"
      ],
      "execution_count": 65,
      "outputs": [
        {
          "output_type": "display_data",
          "data": {
            "text/plain": [
              "  age         workclass final.weight education education.num marital.status\n",
              "1  0.04279500 5         -1.0627040   9          1.1288997    4             \n",
              "2  0.88027355 4         -1.0078546   9          1.1288997    2             \n",
              "3 -0.03333941 2          0.2446894   11        -0.4397309    0             \n",
              "4  1.10867679 2          0.4252333   1         -1.2240462    2             \n",
              "5 -0.79468355 2          1.4066350   9          1.1288997    2             \n",
              "6 -0.10947383 2          0.8971652   12         1.5210573    2             \n",
              "  occupation relationship race sex capital.gain capital.loos hour.per.week\n",
              "1 0          0            0    1    0.1460899   -0.2185824   -0.07773282  \n",
              "2 3          1            0    1   -0.1474422   -0.2185824   -2.33149205  \n",
              "3 5          0            0    1   -0.1474422   -0.2185824   -0.07773282  \n",
              "4 5          1            1    1   -0.1474422   -0.2185824   -0.07773282  \n",
              "5 9          2            1    0   -0.1474422   -0.2185824   -0.07773282  \n",
              "6 3          2            0    0   -0.1474422   -0.2185824   -0.07773282  \n",
              "  native.country income\n",
              "1 0              0     \n",
              "2 0              0     \n",
              "3 0              0     \n",
              "4 0              0     \n",
              "5 1              0     \n",
              "6 0              0     "
            ],
            "text/latex": "A data.frame: 6 × 15\n\\begin{tabular}{r|lllllllllllllll}\n  & age & workclass & final.weight & education & education.num & marital.status & occupation & relationship & race & sex & capital.gain & capital.loos & hour.per.week & native.country & income\\\\\n  & <dbl{[},1{]}> & <fct> & <dbl{[},1{]}> & <fct> & <dbl{[},1{]}> & <fct> & <fct> & <fct> & <fct> & <fct> & <dbl> & <dbl> & <dbl> & <fct> & <fct>\\\\\n\\hline\n\t1 &  0.04279500 & 5 & -1.0627040 & 9  &  1.1288997 & 4 & 0 & 0 & 0 & 1 &  0.1460899 & -0.2185824 & -0.07773282 & 0 & 0\\\\\n\t2 &  0.88027355 & 4 & -1.0078546 & 9  &  1.1288997 & 2 & 3 & 1 & 0 & 1 & -0.1474422 & -0.2185824 & -2.33149205 & 0 & 0\\\\\n\t3 & -0.03333941 & 2 &  0.2446894 & 11 & -0.4397309 & 0 & 5 & 0 & 0 & 1 & -0.1474422 & -0.2185824 & -0.07773282 & 0 & 0\\\\\n\t4 &  1.10867679 & 2 &  0.4252333 & 1  & -1.2240462 & 2 & 5 & 1 & 1 & 1 & -0.1474422 & -0.2185824 & -0.07773282 & 0 & 0\\\\\n\t5 & -0.79468355 & 2 &  1.4066350 & 9  &  1.1288997 & 2 & 9 & 2 & 1 & 0 & -0.1474422 & -0.2185824 & -0.07773282 & 1 & 0\\\\\n\t6 & -0.10947383 & 2 &  0.8971652 & 12 &  1.5210573 & 2 & 3 & 2 & 0 & 0 & -0.1474422 & -0.2185824 & -0.07773282 & 0 & 0\\\\\n\\end{tabular}\n",
            "text/markdown": "\nA data.frame: 6 × 15\n\n| <!--/--> | age &lt;dbl[,1]&gt; | workclass &lt;fct&gt; | final.weight &lt;dbl[,1]&gt; | education &lt;fct&gt; | education.num &lt;dbl[,1]&gt; | marital.status &lt;fct&gt; | occupation &lt;fct&gt; | relationship &lt;fct&gt; | race &lt;fct&gt; | sex &lt;fct&gt; | capital.gain &lt;dbl&gt; | capital.loos &lt;dbl&gt; | hour.per.week &lt;dbl&gt; | native.country &lt;fct&gt; | income &lt;fct&gt; |\n|---|---|---|---|---|---|---|---|---|---|---|---|---|---|---|---|\n| 1 |  0.04279500 | 5 | -1.0627040 | 9  |  1.1288997 | 4 | 0 | 0 | 0 | 1 |  0.1460899 | -0.2185824 | -0.07773282 | 0 | 0 |\n| 2 |  0.88027355 | 4 | -1.0078546 | 9  |  1.1288997 | 2 | 3 | 1 | 0 | 1 | -0.1474422 | -0.2185824 | -2.33149205 | 0 | 0 |\n| 3 | -0.03333941 | 2 |  0.2446894 | 11 | -0.4397309 | 0 | 5 | 0 | 0 | 1 | -0.1474422 | -0.2185824 | -0.07773282 | 0 | 0 |\n| 4 |  1.10867679 | 2 |  0.4252333 | 1  | -1.2240462 | 2 | 5 | 1 | 1 | 1 | -0.1474422 | -0.2185824 | -0.07773282 | 0 | 0 |\n| 5 | -0.79468355 | 2 |  1.4066350 | 9  |  1.1288997 | 2 | 9 | 2 | 1 | 0 | -0.1474422 | -0.2185824 | -0.07773282 | 1 | 0 |\n| 6 | -0.10947383 | 2 |  0.8971652 | 12 |  1.5210573 | 2 | 3 | 2 | 0 | 0 | -0.1474422 | -0.2185824 | -0.07773282 | 0 | 0 |\n\n",
            "text/html": [
              "<table>\n",
              "<caption>A data.frame: 6 × 15</caption>\n",
              "<thead>\n",
              "\t<tr><th></th><th scope=col>age</th><th scope=col>workclass</th><th scope=col>final.weight</th><th scope=col>education</th><th scope=col>education.num</th><th scope=col>marital.status</th><th scope=col>occupation</th><th scope=col>relationship</th><th scope=col>race</th><th scope=col>sex</th><th scope=col>capital.gain</th><th scope=col>capital.loos</th><th scope=col>hour.per.week</th><th scope=col>native.country</th><th scope=col>income</th></tr>\n",
              "\t<tr><th></th><th scope=col>&lt;dbl[,1]&gt;</th><th scope=col>&lt;fct&gt;</th><th scope=col>&lt;dbl[,1]&gt;</th><th scope=col>&lt;fct&gt;</th><th scope=col>&lt;dbl[,1]&gt;</th><th scope=col>&lt;fct&gt;</th><th scope=col>&lt;fct&gt;</th><th scope=col>&lt;fct&gt;</th><th scope=col>&lt;fct&gt;</th><th scope=col>&lt;fct&gt;</th><th scope=col>&lt;dbl&gt;</th><th scope=col>&lt;dbl&gt;</th><th scope=col>&lt;dbl&gt;</th><th scope=col>&lt;fct&gt;</th><th scope=col>&lt;fct&gt;</th></tr>\n",
              "</thead>\n",
              "<tbody>\n",
              "\t<tr><th scope=row>1</th><td> 0.04279500</td><td>5</td><td>-1.0627040</td><td>9 </td><td> 1.1288997</td><td>4</td><td>0</td><td>0</td><td>0</td><td>1</td><td> 0.1460899</td><td>-0.2185824</td><td>-0.07773282</td><td>0</td><td>0</td></tr>\n",
              "\t<tr><th scope=row>2</th><td> 0.88027355</td><td>4</td><td>-1.0078546</td><td>9 </td><td> 1.1288997</td><td>2</td><td>3</td><td>1</td><td>0</td><td>1</td><td>-0.1474422</td><td>-0.2185824</td><td>-2.33149205</td><td>0</td><td>0</td></tr>\n",
              "\t<tr><th scope=row>3</th><td>-0.03333941</td><td>2</td><td> 0.2446894</td><td>11</td><td>-0.4397309</td><td>0</td><td>5</td><td>0</td><td>0</td><td>1</td><td>-0.1474422</td><td>-0.2185824</td><td>-0.07773282</td><td>0</td><td>0</td></tr>\n",
              "\t<tr><th scope=row>4</th><td> 1.10867679</td><td>2</td><td> 0.4252333</td><td>1 </td><td>-1.2240462</td><td>2</td><td>5</td><td>1</td><td>1</td><td>1</td><td>-0.1474422</td><td>-0.2185824</td><td>-0.07773282</td><td>0</td><td>0</td></tr>\n",
              "\t<tr><th scope=row>5</th><td>-0.79468355</td><td>2</td><td> 1.4066350</td><td>9 </td><td> 1.1288997</td><td>2</td><td>9</td><td>2</td><td>1</td><td>0</td><td>-0.1474422</td><td>-0.2185824</td><td>-0.07773282</td><td>1</td><td>0</td></tr>\n",
              "\t<tr><th scope=row>6</th><td>-0.10947383</td><td>2</td><td> 0.8971652</td><td>12</td><td> 1.5210573</td><td>2</td><td>3</td><td>2</td><td>0</td><td>0</td><td>-0.1474422</td><td>-0.2185824</td><td>-0.07773282</td><td>0</td><td>0</td></tr>\n",
              "</tbody>\n",
              "</table>\n"
            ]
          },
          "metadata": {
            "tags": []
          }
        }
      ]
    },
    {
      "cell_type": "code",
      "metadata": {
        "id": "Z1KSCxd6QO_8",
        "colab_type": "code",
        "colab": {
          "base_uri": "https://localhost:8080/",
          "height": 119
        },
        "outputId": "a9e263a4-78f3-4265-aa43-e1c5a5576cd1"
      },
      "source": [
        "#Instalando pacote para preparação dos dados de ML\n",
        "\n",
        "install.packages(\"caTools\")\n",
        "library(caTools)\n"
      ],
      "execution_count": 29,
      "outputs": [
        {
          "output_type": "stream",
          "text": [
            "Installing package into ‘/usr/local/lib/R/site-library’\n",
            "(as ‘lib’ is unspecified)\n",
            "\n",
            "also installing the dependency ‘bitops’\n",
            "\n",
            "\n"
          ],
          "name": "stderr"
        }
      ]
    },
    {
      "cell_type": "code",
      "metadata": {
        "id": "pXbqDePLQby1",
        "colab_type": "code",
        "colab": {
          "base_uri": "https://localhost:8080/",
          "height": 51
        },
        "outputId": "0ee7f7db-019b-4cde-f313-0d3821081471"
      },
      "source": [
        "#4) Separando as Bases de dados em treino e Teste\n",
        "\n",
        "set.seed(1) #Determinando o número de sementes do algorítmo\n",
        "\n",
        "divisao = sample.split(data$income, SplitRatio = 0.85) #dividindo o dataset em 75% para treinamento e 25% teste, o retorno será um vetor TRUE or False que determinará os registros que farão parte do dataset.\n",
        "\n",
        "data_trein = subset(data, divisao == TRUE) #Definindo o dataset de treinamento\n",
        "data_tst = subset(data, divisao == FALSE) #Definindo o dataset de teste\n",
        "\n",
        "nrow(data_trein)\n",
        "nrow(data_tst)"
      ],
      "execution_count": 66,
      "outputs": [
        {
          "output_type": "display_data",
          "data": {
            "text/plain": [
              "[1] 25638"
            ],
            "text/latex": "25638",
            "text/markdown": "25638",
            "text/html": [
              "25638"
            ]
          },
          "metadata": {
            "tags": []
          }
        },
        {
          "output_type": "display_data",
          "data": {
            "text/plain": [
              "[1] 4524"
            ],
            "text/latex": "4524",
            "text/markdown": "4524",
            "text/html": [
              "4524"
            ]
          },
          "metadata": {
            "tags": []
          }
        }
      ]
    },
    {
      "cell_type": "code",
      "metadata": {
        "id": "NvL2ouUnQrty",
        "colab_type": "code",
        "colab": {
          "base_uri": "https://localhost:8080/",
          "height": 68
        },
        "outputId": "77d680cf-f800-40ba-d292-58042a79ba96"
      },
      "source": [
        "# Instalando o Pacote de ML (Que contém o algorítmo SVM)\n",
        "\n",
        "install.packages(\"e1071\")"
      ],
      "execution_count": 32,
      "outputs": [
        {
          "output_type": "stream",
          "text": [
            "Installing package into ‘/usr/local/lib/R/site-library’\n",
            "(as ‘lib’ is unspecified)\n",
            "\n"
          ],
          "name": "stderr"
        }
      ]
    },
    {
      "cell_type": "code",
      "metadata": {
        "id": "B5O8HkLURGFy",
        "colab_type": "code",
        "colab": {}
      },
      "source": [
        "library(e1071)"
      ],
      "execution_count": 0,
      "outputs": []
    },
    {
      "cell_type": "code",
      "metadata": {
        "id": "7GpGOL3QRLNz",
        "colab_type": "code",
        "colab": {}
      },
      "source": [
        "# 5) Criando o algorítmo de Classificação\n",
        "\n",
        "\n",
        "class = svm(formula = income ~., data = data_trein, type = \"C-classification\", kernel = \"radial\")\n",
        "\n"
      ],
      "execution_count": 0,
      "outputs": []
    },
    {
      "cell_type": "code",
      "metadata": {
        "id": "hFYfQ9K8SWE4",
        "colab_type": "code",
        "colab": {}
      },
      "source": [
        "# 6) Prevendo as condições futuras dos dados de treino\n",
        "\n",
        "prev = predict(class, newdata = data_tst[-15])"
      ],
      "execution_count": 0,
      "outputs": []
    },
    {
      "cell_type": "code",
      "metadata": {
        "id": "p7b8GrX9Sh_Z",
        "colab_type": "code",
        "colab": {
          "base_uri": "https://localhost:8080/",
          "height": 85
        },
        "outputId": "cc54de8c-2971-492e-8bb0-5bd73adf470b"
      },
      "source": [
        "mtx_conf = table(data_tst[,15],prev)\n",
        "\n",
        "mtx_conf"
      ],
      "execution_count": 51,
      "outputs": [
        {
          "output_type": "display_data",
          "data": {
            "text/plain": [
              "   prev\n",
              "       0    1\n",
              "  0 3180  218\n",
              "  1  498  628"
            ]
          },
          "metadata": {
            "tags": []
          }
        }
      ]
    },
    {
      "cell_type": "code",
      "metadata": {
        "id": "4FcHbgWaS0sf",
        "colab_type": "code",
        "colab": {
          "base_uri": "https://localhost:8080/",
          "height": 153
        },
        "outputId": "bb19cf0d-da24-4430-b469-0d9cbff53871"
      },
      "source": [
        "install.packages(\"caret\")\n",
        "library(caret)"
      ],
      "execution_count": 53,
      "outputs": [
        {
          "output_type": "stream",
          "text": [
            "Installing package into ‘/usr/local/lib/R/site-library’\n",
            "(as ‘lib’ is unspecified)\n",
            "\n",
            "also installing the dependencies ‘numDeriv’, ‘SQUAREM’, ‘lava’, ‘prodlim’, ‘iterators’, ‘data.table’, ‘gower’, ‘ipred’, ‘timeDate’, ‘foreach’, ‘ModelMetrics’, ‘recipes’, ‘pROC’\n",
            "\n",
            "\n",
            "Loading required package: lattice\n",
            "\n"
          ],
          "name": "stderr"
        }
      ]
    },
    {
      "cell_type": "code",
      "metadata": {
        "id": "1ZII8zPNTdd9",
        "colab_type": "code",
        "colab": {
          "base_uri": "https://localhost:8080/",
          "height": 476
        },
        "outputId": "1ec41187-0925-46b6-817f-64273cf9a129"
      },
      "source": [
        "confusionMatrix(mtx_conf)"
      ],
      "execution_count": 54,
      "outputs": [
        {
          "output_type": "display_data",
          "data": {
            "text/plain": [
              "Confusion Matrix and Statistics\n",
              "\n",
              "   prev\n",
              "       0    1\n",
              "  0 3180  218\n",
              "  1  498  628\n",
              "                                          \n",
              "               Accuracy : 0.8417          \n",
              "                 95% CI : (0.8308, 0.8523)\n",
              "    No Information Rate : 0.813           \n",
              "    P-Value [Acc > NIR] : 2.348e-07       \n",
              "                                          \n",
              "                  Kappa : 0.5383          \n",
              "                                          \n",
              " Mcnemar's Test P-Value : < 2.2e-16       \n",
              "                                          \n",
              "            Sensitivity : 0.8646          \n",
              "            Specificity : 0.7423          \n",
              "         Pos Pred Value : 0.9358          \n",
              "         Neg Pred Value : 0.5577          \n",
              "             Prevalence : 0.8130          \n",
              "         Detection Rate : 0.7029          \n",
              "   Detection Prevalence : 0.7511          \n",
              "      Balanced Accuracy : 0.8035          \n",
              "                                          \n",
              "       'Positive' Class : 0               \n",
              "                                          "
            ]
          },
          "metadata": {
            "tags": []
          }
        }
      ]
    }
  ]
}