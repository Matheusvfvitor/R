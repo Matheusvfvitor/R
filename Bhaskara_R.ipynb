{
  "nbformat": 4,
  "nbformat_minor": 0,
  "metadata": {
    "colab": {
      "name": "Bhaskara@R.ipynb",
      "provenance": [],
      "authorship_tag": "ABX9TyMLj+GyTnHU0Ql8Eck+7+g9",
      "include_colab_link": true
    },
    "kernelspec": {
      "name": "ir",
      "display_name": "R"
    }
  },
  "cells": [
    {
      "cell_type": "markdown",
      "metadata": {
        "id": "view-in-github",
        "colab_type": "text"
      },
      "source": [
        "<a href=\"https://colab.research.google.com/github/Matheusvfvitor/R/blob/master/Bhaskara_R.ipynb\" target=\"_parent\"><img src=\"https://colab.research.google.com/assets/colab-badge.svg\" alt=\"Open In Colab\"/></a>"
      ]
    },
    {
      "cell_type": "code",
      "metadata": {
        "id": "hkJxSXGsycr7",
        "colab_type": "code",
        "colab": {
          "base_uri": "https://localhost:8080/",
          "height": 51
        },
        "outputId": "6c8edc85-b933-4a1a-fe2d-5dfa54e18ed7"
      },
      "source": [
        "bascara <- function(a,b,c){\n",
        "\n",
        "delta <- b*b-4*a*c\n",
        "\n",
        "if(delta <= 0){\n",
        "\n",
        "  res = print(\"Não existem raízes negativas\")  \n",
        "  \n",
        "}else{\n",
        "\n",
        "  xi<-  -b+sqrt(delta)/(2*a)\n",
        "\n",
        "  xii<- -b-sqrt(delta)/(2*a)\n",
        "\n",
        "  res <- c(xi, xii)\n",
        "\n",
        "}\n",
        "\n",
        "return(res)\n",
        "\n",
        "}\n",
        "\n",
        "\n",
        "bascara(1,3,4)\n"
      ],
      "execution_count": 29,
      "outputs": [
        {
          "output_type": "stream",
          "text": [
            "[1] \"Não existem raízes negativas\"\n"
          ],
          "name": "stdout"
        },
        {
          "output_type": "display_data",
          "data": {
            "text/plain": [
              "[1] \"Não existem raízes negativas\""
            ],
            "text/latex": "'Não existem raízes negativas'",
            "text/markdown": "'Não existem raízes negativas'",
            "text/html": [
              "'Não existem raízes negativas'"
            ]
          },
          "metadata": {
            "tags": []
          }
        }
      ]
    }
  ]
}